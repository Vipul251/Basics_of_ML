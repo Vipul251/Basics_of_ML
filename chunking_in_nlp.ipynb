{
  "nbformat": 4,
  "nbformat_minor": 0,
  "metadata": {
    "colab": {
      "provenance": [],
      "authorship_tag": "ABX9TyOROpj2jLeXNhJeCisfc8Vr",
      "include_colab_link": true
    },
    "kernelspec": {
      "name": "python3",
      "display_name": "Python 3"
    },
    "language_info": {
      "name": "python"
    }
  },
  "cells": [
    {
      "cell_type": "markdown",
      "metadata": {
        "id": "view-in-github",
        "colab_type": "text"
      },
      "source": [
        "<a href=\"https://colab.research.google.com/github/Vipul251/Basics_of_ML/blob/main/chunking_in_nlp.ipynb\" target=\"_parent\"><img src=\"https://colab.research.google.com/assets/colab-badge.svg\" alt=\"Open In Colab\"/></a>"
      ]
    },
    {
      "cell_type": "code",
      "execution_count": 7,
      "metadata": {
        "colab": {
          "base_uri": "https://localhost:8080/"
        },
        "id": "SFuu1Bjue1OU",
        "outputId": "eb3e6dd7-f2ad-4a4c-dd28-cc1c1d52cca4"
      },
      "outputs": [
        {
          "output_type": "stream",
          "name": "stderr",
          "text": [
            "[nltk_data] Downloading package averaged_perceptron_tagger to\n",
            "[nltk_data]     /root/nltk_data...\n",
            "[nltk_data]   Package averaged_perceptron_tagger is already up-to-\n",
            "[nltk_data]       date!\n"
          ]
        },
        {
          "output_type": "execute_result",
          "data": {
            "text/plain": [
              "[('The', 'DT'),\n",
              " ('man', 'NN'),\n",
              " ('was', 'VBD'),\n",
              " ('excited', 'VBN'),\n",
              " ('after', 'IN'),\n",
              " ('he', 'PRP'),\n",
              " ('was', 'VBD'),\n",
              " ('informed', 'VBN'),\n",
              " ('about', 'IN'),\n",
              " ('his', 'PRP$'),\n",
              " ('promotion', 'NN'),\n",
              " ('at', 'IN'),\n",
              " ('work', 'NN')]"
            ]
          },
          "metadata": {},
          "execution_count": 7
        }
      ],
      "source": [
        "import nltk\n",
        "#define a text\n",
        "nltk.download('averaged_perceptron_tagger')\n",
        "\n",
        "sentence = \"The man was excited after he was informed about his promotion at work\"\n",
        "#tokenize the text\n",
        "tokens = nltk.word_tokenize(sentence)\n",
        "\n",
        "#Perform POS tagging\n",
        "nltk.pos_tag(tokens)"
      ]
    },
    {
      "cell_type": "code",
      "source": [
        "import nltk\n",
        "nltk.download('punkt')"
      ],
      "metadata": {
        "colab": {
          "base_uri": "https://localhost:8080/"
        },
        "id": "NQHNA2C1fC9z",
        "outputId": "78cba393-99d9-424c-caa5-1c81afc00d29"
      },
      "execution_count": 6,
      "outputs": [
        {
          "output_type": "stream",
          "name": "stderr",
          "text": [
            "[nltk_data] Downloading package punkt to /root/nltk_data...\n",
            "[nltk_data]   Unzipping tokenizers/punkt.zip.\n"
          ]
        },
        {
          "output_type": "execute_result",
          "data": {
            "text/plain": [
              "True"
            ]
          },
          "metadata": {},
          "execution_count": 6
        }
      ]
    },
    {
      "cell_type": "code",
      "source": [
        "import nltk\n",
        "#define the text\n",
        "sentence = \"I told the children I was going to tell them a story. They were excited\"\n",
        "#tokenize the text\n",
        "tokens = nltk.word_tokenize(sentence)\n",
        "#perform POS tagging\n",
        "tags = nltk.pos_tag(tokens)\n",
        "#define a chunk grammar named mychunk\n",
        "chunk_grammar = \"\"\" mychunk: {<NNS.?><PRP.?><VBD?>}\"\"\"\n",
        "#parse the grammar with regular expression parser\n",
        "parser = nltk.RegexpParser(chunk_grammar)\n",
        "#assign the chunk\n",
        "tree = parser.parse(tags)\n",
        "print(tree)"
      ],
      "metadata": {
        "colab": {
          "base_uri": "https://localhost:8080/"
        },
        "id": "aVrXqX81e76o",
        "outputId": "2928538e-6224-4071-f1d0-d159f5db97ff"
      },
      "execution_count": 8,
      "outputs": [
        {
          "output_type": "stream",
          "name": "stdout",
          "text": [
            "(S\n",
            "  I/PRP\n",
            "  told/VBD\n",
            "  the/DT\n",
            "  (mychunk children/NNS I/PRP was/VBD)\n",
            "  going/VBG\n",
            "  to/TO\n",
            "  tell/VB\n",
            "  them/PRP\n",
            "  a/DT\n",
            "  story/NN\n",
            "  ./.\n",
            "  They/PRP\n",
            "  were/VBD\n",
            "  excited/VBN)\n"
          ]
        }
      ]
    }
  ]
}